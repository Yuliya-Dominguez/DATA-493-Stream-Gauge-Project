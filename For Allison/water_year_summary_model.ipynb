{
 "cells": [
  {
   "cell_type": "markdown",
   "id": "50cb3012",
   "metadata": {},
   "source": [
    "## Water-year Summary NLP Model for Labeling Gauges"
   ]
  },
  {
   "cell_type": "markdown",
   "id": "06a5acc5",
   "metadata": {},
   "source": [
    "This notebook contains a classification model that performs labeling of the water-year summary dataset. It takes water-year summaries data scraped in the water-year summary.ipynb notebook that we want to label by the gauges' eligibility, as well as a concatenated dataset of the training data from WA, OR, AZ, and NV that were manually labeled to produce high-accuracy data for training the model.\n",
    "\n",
    "First, this document deals with text preprocessing on training data, such as removing NaN values, transforming text to lowercase, removing special symbols, and removing selected stop-words like \"which\", \"this\", \"that\", etc. We chose to select the stop-words ourselves, instead of using pre-existing functions, because some stop-words are important to keep for our type of data. For example, \"no\" is a stop word, but it has to be kept in the dataset because it is an important predictor when choosing between \"diversion\" and \"no diversion\" upstream.\n",
    "\n",
    "If working with a different dataset other than is provided with this project (California's clean_csv_ water-year summary.csv) run the training model on the given training set. Note that it might take some time. The Model Metrics section allows us to see how well the model made predictions. An Accuracy score above 0.8 (80%) is generally a very good result.\n",
    "\n",
    "Multiclass Classification on Input File section is the part that labels the main water-year summary dataset in question. Outputs the labeled dataset. The name of the output and input file can be changed in User Input in case of working with multiple datasets that need to be labeled, however, the train file should not be replaced.\n",
    "\n",
    "*LightGBM (light gradient-boosting machine) is a gradient-boosting framework that excels in producing high accuracy and faster speeds. "
   ]
  },
  {
   "cell_type": "code",
   "execution_count": 49,
   "id": "6586bd0a",
   "metadata": {},
   "outputs": [],
   "source": [
    "import pandas as pd\n",
    "import numpy as np\n",
    "import seaborn as sn\n",
    "from lightgbm import LGBMClassifier\n",
    "import matplotlib.pyplot as plt\n",
    "from nltk.tokenize import word_tokenize\n",
    "from sklearn.model_selection import train_test_split\n",
    "from sklearn.feature_extraction.text import CountVectorizer\n",
    "from sklearn import metrics\n",
    "from sklearn.metrics import f1_score, precision_score, recall_score, log_loss, classification_report\n",
    "from sklearn.preprocessing import StandardScaler\n",
    "from sklearn.metrics import confusion_matrix, ConfusionMatrixDisplay, accuracy_score"
   ]
  },
  {
   "cell_type": "markdown",
   "id": "6c5c8f78",
   "metadata": {},
   "source": [
    "### User Input"
   ]
  },
  {
   "cell_type": "code",
   "execution_count": 50,
   "id": "d46ca283",
   "metadata": {},
   "outputs": [],
   "source": [
    "# Input file name of gages to be checked for validity\n",
    "input_file = 'clean_csv_ water-year summary.csv'\n",
    "# Output file name of gages with valid column\n",
    "output_file = 'CA_valid_gages.csv'\n",
    "# File name of labeled training set\n",
    "train_file = 'train_gages.csv'"
   ]
  },
  {
   "cell_type": "markdown",
   "id": "d867acb7",
   "metadata": {},
   "source": [
    "### Preprocessing"
   ]
  },
  {
   "cell_type": "code",
   "execution_count": 51,
   "id": "889cba88",
   "metadata": {},
   "outputs": [],
   "source": [
    "train_gages = pd.read_csv(train_file, encoding='latin-1', low_memory=False)\n",
    "train_gages = train_gages.dropna()\n",
    "X_gages = pd.read_csv(input_file, encoding='latin-1', low_memory=False)\n",
    "X_gages = X_gages.dropna()"
   ]
  },
  {
   "cell_type": "code",
   "execution_count": 52,
   "id": "f8b4f608",
   "metadata": {
    "scrolled": true
   },
   "outputs": [],
   "source": [
    "def preprocessing(gages):\n",
    "    gages_clean = gages\n",
    "    # Lowercase all columns, remove special symbols\n",
    "    gages_clean['Location'] = gages['Location'].str.lower().replace(r'[^a-z]', ' ', regex=True)\n",
    "    gages_clean['Gage'] = gages['Gage'].str.lower().replace(r'[^a-z]', ' ', regex=True)\n",
    "    gages_clean['Remarks'] = gages['Remarks'].str.lower().replace(r'[^a-z]', ' ', regex=True)\n",
    "    \n",
    "    # Can use following line if important information is in 'Location' and 'Gage' columns\n",
    "    # gages_clean['Full Text'] = gages[['Location', 'Gage', 'Remarks']].agg(' '.join, axis=1)\n",
    "    \n",
    "    # Custom stopwords to be removed. Nltk stopwords (e.g with, could) have potential to be important features, so we\n",
    "    # decided against using the full list.\n",
    "    mod_sw = ['it','its','what','which','this','that','these','from','of','a','an','the','for','and','as','is']\n",
    "    gages_clean['Remarks'] = gages['Remarks'].apply(lambda x: ' '.join([word for word in str(x).split() if not word in mod_sw and len(word)>1]))\n",
    "    \n",
    "    return gages_clean"
   ]
  },
  {
   "cell_type": "code",
   "execution_count": 53,
   "id": "83fa6871",
   "metadata": {},
   "outputs": [],
   "source": [
    "data = preprocessing(train_gages)"
   ]
  },
  {
   "cell_type": "markdown",
   "id": "f8cd95da",
   "metadata": {},
   "source": [
    "### Model Training"
   ]
  },
  {
   "cell_type": "code",
   "execution_count": 54,
   "id": "86f5c9d2",
   "metadata": {
    "scrolled": true
   },
   "outputs": [
    {
     "name": "stdout",
     "output_type": "stream",
     "text": [
      "[LightGBM] [Warning] early_stopping_round is set=20, early_stopping_rounds=20 will be ignored. Current value: early_stopping_round=20\n",
      "[1]\tvalid_0's multi_logloss: 0.869837\n",
      "[2]\tvalid_0's multi_logloss: 0.821777\n",
      "[3]\tvalid_0's multi_logloss: 0.780704\n",
      "[4]\tvalid_0's multi_logloss: 0.744449\n",
      "[5]\tvalid_0's multi_logloss: 0.711289\n",
      "[6]\tvalid_0's multi_logloss: 0.682714\n",
      "[7]\tvalid_0's multi_logloss: 0.654576\n",
      "[8]\tvalid_0's multi_logloss: 0.629851\n",
      "[9]\tvalid_0's multi_logloss: 0.60775\n",
      "[10]\tvalid_0's multi_logloss: 0.588761\n",
      "[11]\tvalid_0's multi_logloss: 0.570103\n",
      "[12]\tvalid_0's multi_logloss: 0.554343\n",
      "[13]\tvalid_0's multi_logloss: 0.539456\n",
      "[14]\tvalid_0's multi_logloss: 0.524859\n",
      "[15]\tvalid_0's multi_logloss: 0.51242\n",
      "[16]\tvalid_0's multi_logloss: 0.502969\n",
      "[17]\tvalid_0's multi_logloss: 0.491271\n",
      "[18]\tvalid_0's multi_logloss: 0.48181\n",
      "[19]\tvalid_0's multi_logloss: 0.47259\n",
      "[20]\tvalid_0's multi_logloss: 0.464449\n",
      "[21]\tvalid_0's multi_logloss: 0.45698\n",
      "[22]\tvalid_0's multi_logloss: 0.449527\n",
      "[23]\tvalid_0's multi_logloss: 0.442087\n",
      "[24]\tvalid_0's multi_logloss: 0.435002\n",
      "[25]\tvalid_0's multi_logloss: 0.428925\n",
      "[26]\tvalid_0's multi_logloss: 0.422574\n",
      "[27]\tvalid_0's multi_logloss: 0.41763\n",
      "[28]\tvalid_0's multi_logloss: 0.413052\n",
      "[29]\tvalid_0's multi_logloss: 0.409101\n",
      "[30]\tvalid_0's multi_logloss: 0.405975\n",
      "[31]\tvalid_0's multi_logloss: 0.402909\n",
      "[32]\tvalid_0's multi_logloss: 0.400871\n",
      "[33]\tvalid_0's multi_logloss: 0.398839\n",
      "[34]\tvalid_0's multi_logloss: 0.39632\n",
      "[35]\tvalid_0's multi_logloss: 0.39519\n",
      "[36]\tvalid_0's multi_logloss: 0.396103\n",
      "[37]\tvalid_0's multi_logloss: 0.393558\n",
      "[38]\tvalid_0's multi_logloss: 0.392004\n",
      "[39]\tvalid_0's multi_logloss: 0.391006\n",
      "[40]\tvalid_0's multi_logloss: 0.389308\n",
      "[41]\tvalid_0's multi_logloss: 0.388293\n",
      "[42]\tvalid_0's multi_logloss: 0.387706\n",
      "[43]\tvalid_0's multi_logloss: 0.38753\n",
      "[44]\tvalid_0's multi_logloss: 0.386873\n",
      "[45]\tvalid_0's multi_logloss: 0.385717\n",
      "[46]\tvalid_0's multi_logloss: 0.385571\n",
      "[47]\tvalid_0's multi_logloss: 0.38453\n",
      "[48]\tvalid_0's multi_logloss: 0.384235\n",
      "[49]\tvalid_0's multi_logloss: 0.383214\n",
      "[50]\tvalid_0's multi_logloss: 0.38279\n",
      "[51]\tvalid_0's multi_logloss: 0.382884\n",
      "[52]\tvalid_0's multi_logloss: 0.382708\n",
      "[53]\tvalid_0's multi_logloss: 0.384091\n",
      "[54]\tvalid_0's multi_logloss: 0.386171\n",
      "[55]\tvalid_0's multi_logloss: 0.385731\n",
      "[56]\tvalid_0's multi_logloss: 0.387843\n",
      "[57]\tvalid_0's multi_logloss: 0.38852\n",
      "[58]\tvalid_0's multi_logloss: 0.387835\n",
      "[59]\tvalid_0's multi_logloss: 0.388716\n",
      "[60]\tvalid_0's multi_logloss: 0.389153\n",
      "[61]\tvalid_0's multi_logloss: 0.389702\n",
      "[62]\tvalid_0's multi_logloss: 0.39145\n",
      "[63]\tvalid_0's multi_logloss: 0.393253\n",
      "[64]\tvalid_0's multi_logloss: 0.393137\n",
      "[65]\tvalid_0's multi_logloss: 0.393895\n",
      "[66]\tvalid_0's multi_logloss: 0.394942\n",
      "[67]\tvalid_0's multi_logloss: 0.396887\n",
      "[68]\tvalid_0's multi_logloss: 0.397505\n",
      "[69]\tvalid_0's multi_logloss: 0.399676\n",
      "[70]\tvalid_0's multi_logloss: 0.400849\n",
      "[71]\tvalid_0's multi_logloss: 0.40218\n",
      "[72]\tvalid_0's multi_logloss: 0.404571\n"
     ]
    }
   ],
   "source": [
    "X = data[\"Remarks\"]\n",
    "y = data[\"Valid\"]\n",
    "X_train, X_remain, y_train, y_remain = train_test_split(X, y, test_size=0.2, random_state=6)\n",
    "X_val, X_test, y_val, y_test = train_test_split(X_remain, y_remain, test_size=0.5, random_state=6)\n",
    "\n",
    "# Vectorizer to turn words into numerical features\n",
    "vectorizer = CountVectorizer(min_df = 0.2, # Min ratio entries for a word to be considered a feature\n",
    "                             max_features = 10000,\n",
    "                             analyzer = \"word\",\n",
    "                             ngram_range = (1,4), # Creates word sequence features length of ngram_range\n",
    "                             token_pattern = r'\\b\\w+\\b')\n",
    "X_train = vectorizer.fit_transform(X_train)\n",
    "X_val = vectorizer.transform(X_val)\n",
    "X_test = vectorizer.transform(X_test)\n",
    "\n",
    "\n",
    "# Standard scaling on data\n",
    "scaler = StandardScaler(with_mean=False)\n",
    "X_train = scaler.fit_transform(X_train)\n",
    "X_val = scaler.transform(X_val)\n",
    "X_test = scaler.transform(X_test)\n",
    "\n",
    "# Training model, hyperparameter tuning done using wandb\n",
    "clf = LGBMClassifier(num_class=3,\n",
    "                boosting_type='gbdt',\n",
    "                learning_rate=0.05,\n",
    "                objective='multiclass',\n",
    "                metric='multi_logloss',\n",
    "                n_estimators=300,\n",
    "                early_stopping_rounds=20,\n",
    "                # num_leaves=10000,\n",
    "                # lambda_l1=0.1,\n",
    "                # max_depth=20,\n",
    "                # min_data_in_leaf=10,\n",
    "                )\n",
    "model = clf.fit(X_train, y_train, eval_set=(X_val, y_val), eval_metric='multiclass')"
   ]
  },
  {
   "cell_type": "markdown",
   "id": "2ee29eb1",
   "metadata": {},
   "source": [
    "### Model Metrics"
   ]
  },
  {
   "cell_type": "code",
   "execution_count": 55,
   "id": "a0c124e7",
   "metadata": {},
   "outputs": [
    {
     "name": "stdout",
     "output_type": "stream",
     "text": [
      "Accuracy Score = 0.8857142857142857\n",
      "              precision    recall  f1-score   support\n",
      "\n",
      "         0.0      0.935     0.977     0.956        44\n",
      "         1.0      0.875     0.500     0.636        14\n",
      "         2.0      0.750     1.000     0.857        12\n",
      "\n",
      "    accuracy                          0.886        70\n",
      "   macro avg      0.853     0.826     0.816        70\n",
      "weighted avg      0.891     0.886     0.875        70\n",
      "\n"
     ]
    },
    {
     "data": {
      "image/png": "[encoded data removed]",
      "text/plain": [
       "<Figure size 360x216 with 2 Axes>"
      ]
     },
     "metadata": {
      "needs_background": "light"
     },
     "output_type": "display_data"
    }
   ],
   "source": [
    "# Accuracy score\n",
    "y_pred = model.predict(X_test)\n",
    "accuracy = accuracy_score(y_test, y_pred)\n",
    "print(\"Accuracy Score = \" + str(accuracy))\n",
    "\n",
    "# Confusion Matrix Heatmap\n",
    "array = metrics.confusion_matrix(y_test, y_pred) \n",
    "df_cm = pd.DataFrame(array, index = [i for i in [0,1,2]],\n",
    "              columns = [i for i in [0,1,2]])\n",
    "plt.figure(figsize = (5,3))\n",
    "sn.heatmap(df_cm, annot=True)\n",
    "plt.xlabel('Predicted label')\n",
    "plt.ylabel('True label')\n",
    "\n",
    "# Metrics Report\n",
    "print(metrics.classification_report(y_test, y_pred, digits=3))"
   ]
  },
  {
   "cell_type": "markdown",
   "id": "405c4b4d",
   "metadata": {},
   "source": [
    "### Multiclass Classification on Input File"
   ]
  },
  {
   "cell_type": "code",
   "execution_count": 56,
   "id": "bc88106c",
   "metadata": {},
   "outputs": [
    {
     "name": "stdout",
     "output_type": "stream",
     "text": [
      "Saved to file name: CA_valid_gages.csv\n"
     ]
    }
   ],
   "source": [
    "X_pp_gages = preprocessing(X_gages)\n",
    "X_gages_data = X_pp_gages[\"Remarks\"]\n",
    "X_gages_vectorized = vectorizer.transform(X_gages_data)\n",
    "X_gages_scaled = scaler.transform(X_gages_vectorized)\n",
    "X_gages_scaled = X_gages_scaled.astype(np.float32)\n",
    "X_valid_gages = model.predict(X_gages_scaled)\n",
    "X_gages[\"Valid\"] = X_valid_gages\n",
    "X_gages.to_csv(output_file, index=False)\n",
    "print(\"Saved to file name: \" + output_file)"
   ]
  }
 ],
 "metadata": {
  "kernelspec": {
   "display_name": "Python 3 (ipykernel)",
   "language": "python",
   "name": "python3"
  },
  "language_info": {
   "codemirror_mode": {
    "name": "ipython",
    "version": 3
   },
   "file_extension": ".py",
   "mimetype": "text/x-python",
   "name": "python",
   "nbconvert_exporter": "python",
   "pygments_lexer": "ipython3",
   "version": "3.9.12"
  }
 },
 "nbformat": 4,
 "nbformat_minor": 5
}
